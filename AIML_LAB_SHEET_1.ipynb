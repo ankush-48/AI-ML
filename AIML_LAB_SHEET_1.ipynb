{
  "nbformat": 4,
  "nbformat_minor": 0,
  "metadata": {
    "colab": {
      "provenance": []
    },
    "kernelspec": {
      "name": "python3",
      "display_name": "Python 3"
    },
    "language_info": {
      "name": "python"
    }
  },
  "cells": [
    {
      "cell_type": "code",
      "execution_count": null,
      "metadata": {
        "colab": {
          "base_uri": "https://localhost:8080/"
        },
        "id": "G2pF_5NgYD6Y",
        "outputId": "e2e331c9-ed14-40e9-d568-fffb12f14705"
      },
      "outputs": [
        {
          "output_type": "stream",
          "name": "stdout",
          "text": [
            "[1 2 3 4]\n"
          ]
        },
        {
          "output_type": "execute_result",
          "data": {
            "text/plain": [
              "numpy.ndarray"
            ]
          },
          "metadata": {},
          "execution_count": 4
        }
      ],
      "source": [
        "import numpy as np\n",
        "a=np.array([1,2,3,4])\n",
        "print(a)\n",
        "type(a)\n"
      ]
    },
    {
      "cell_type": "code",
      "source": [
        "a=np.array([[1,2,3,4],[5,6,7,8]])\n",
        "print(a)\n",
        "type(a)\n",
        "a.ndim\n"
      ],
      "metadata": {
        "colab": {
          "base_uri": "https://localhost:8080/"
        },
        "id": "3B27iMlnYFnP",
        "outputId": "997779f6-d29c-4ec8-f0c3-ca57a3e140bb"
      },
      "execution_count": null,
      "outputs": [
        {
          "output_type": "stream",
          "name": "stdout",
          "text": [
            "[[1 2 3 4]\n",
            " [5 6 7 8]]\n"
          ]
        },
        {
          "output_type": "execute_result",
          "data": {
            "text/plain": [
              "2"
            ]
          },
          "metadata": {},
          "execution_count": 11
        }
      ]
    },
    {
      "cell_type": "code",
      "source": [
        "a=np.array([[[1,2,3,4],[5,6,7,8],[9,10,11,12]]])\n",
        "print(a)\n",
        "print(type(a))\n",
        "print(a.size)\n",
        "a.ndim\n"
      ],
      "metadata": {
        "colab": {
          "base_uri": "https://localhost:8080/"
        },
        "id": "6vLiKo2iYFye",
        "outputId": "c85a89fc-690f-45b8-a613-9fba1699f471"
      },
      "execution_count": null,
      "outputs": [
        {
          "output_type": "stream",
          "name": "stdout",
          "text": [
            "[[[ 1  2  3  4]\n",
            "  [ 5  6  7  8]\n",
            "  [ 9 10 11 12]]]\n",
            "<class 'numpy.ndarray'>\n",
            "12\n"
          ]
        },
        {
          "output_type": "execute_result",
          "data": {
            "text/plain": [
              "3"
            ]
          },
          "metadata": {},
          "execution_count": 14
        }
      ]
    },
    {
      "cell_type": "code",
      "source": [
        "a=np.zeros(4)\n",
        "a"
      ],
      "metadata": {
        "colab": {
          "base_uri": "https://localhost:8080/"
        },
        "id": "tRj06VoZYGCm",
        "outputId": "5146e309-c561-4223-9fc6-e79d1e056e6e"
      },
      "execution_count": null,
      "outputs": [
        {
          "output_type": "execute_result",
          "data": {
            "text/plain": [
              "array([0., 0., 0., 0.])"
            ]
          },
          "metadata": {},
          "execution_count": 15
        }
      ]
    },
    {
      "cell_type": "code",
      "source": [
        "a=np.zeros(4,dtype=int)\n",
        "a\n",
        "a.size\n",
        "a.shape"
      ],
      "metadata": {
        "colab": {
          "base_uri": "https://localhost:8080/"
        },
        "id": "2ushPUptYGOu",
        "outputId": "1e622e89-4a04-4caa-f867-4ef47e3423c3"
      },
      "execution_count": null,
      "outputs": [
        {
          "output_type": "execute_result",
          "data": {
            "text/plain": [
              "(4,)"
            ]
          },
          "metadata": {},
          "execution_count": 19
        }
      ]
    },
    {
      "cell_type": "code",
      "source": [
        "a=np.zeros((3,4))\n",
        "a\n",
        "a.size\n",
        "a.shape"
      ],
      "metadata": {
        "colab": {
          "base_uri": "https://localhost:8080/"
        },
        "id": "SHD6q7KUYGZu",
        "outputId": "ba8d08f8-39d4-4ac6-ca83-6a129dd16b9d"
      },
      "execution_count": null,
      "outputs": [
        {
          "output_type": "execute_result",
          "data": {
            "text/plain": [
              "(3, 4)"
            ]
          },
          "metadata": {},
          "execution_count": 22
        }
      ]
    },
    {
      "cell_type": "code",
      "source": [
        "a=np.zeros((3,4),dtype=int)\n",
        "print(a)\n",
        "print(a.size)\n",
        "print(a.shape)\n",
        "print(a.ndim)\n",
        "type(a)"
      ],
      "metadata": {
        "colab": {
          "base_uri": "https://localhost:8080/"
        },
        "id": "1AMJURdoYGnm",
        "outputId": "a5238bc2-c181-494f-fc77-ca728cf865c2"
      },
      "execution_count": null,
      "outputs": [
        {
          "output_type": "stream",
          "name": "stdout",
          "text": [
            "[[0 0 0 0]\n",
            " [0 0 0 0]\n",
            " [0 0 0 0]]\n",
            "12\n",
            "(3, 4)\n",
            "2\n"
          ]
        },
        {
          "output_type": "execute_result",
          "data": {
            "text/plain": [
              "numpy.ndarray"
            ]
          },
          "metadata": {},
          "execution_count": 30
        }
      ]
    },
    {
      "cell_type": "code",
      "source": [
        "a=np.zeros((2,3,4))\n",
        "print(a)\n",
        "print(a.size)\n",
        "print(a.shape)\n",
        "print(a.ndim)\n",
        "type(a)"
      ],
      "metadata": {
        "colab": {
          "base_uri": "https://localhost:8080/"
        },
        "id": "iGxOG0ltYGzO",
        "outputId": "e1e5d6b3-e6a2-4ee2-ea03-32c27fa0d11d"
      },
      "execution_count": null,
      "outputs": [
        {
          "output_type": "stream",
          "name": "stdout",
          "text": [
            "[[[0. 0. 0. 0.]\n",
            "  [0. 0. 0. 0.]\n",
            "  [0. 0. 0. 0.]]\n",
            "\n",
            " [[0. 0. 0. 0.]\n",
            "  [0. 0. 0. 0.]\n",
            "  [0. 0. 0. 0.]]]\n",
            "24\n",
            "(2, 3, 4)\n",
            "3\n"
          ]
        },
        {
          "output_type": "execute_result",
          "data": {
            "text/plain": [
              "numpy.ndarray"
            ]
          },
          "metadata": {},
          "execution_count": 31
        }
      ]
    },
    {
      "cell_type": "code",
      "source": [
        "a=np.ones(3)\n",
        "print(a)\n",
        "print(a.size)\n",
        "print(a.shape)\n",
        "print(a.ndim)\n",
        "type(a)"
      ],
      "metadata": {
        "colab": {
          "base_uri": "https://localhost:8080/"
        },
        "id": "elO0GH-1bhz-",
        "outputId": "7d3e184c-763d-4ed3-e84d-c8d14096d02e"
      },
      "execution_count": null,
      "outputs": [
        {
          "output_type": "stream",
          "name": "stdout",
          "text": [
            "[1. 1. 1.]\n",
            "3\n",
            "(3,)\n",
            "1\n"
          ]
        },
        {
          "output_type": "execute_result",
          "data": {
            "text/plain": [
              "numpy.ndarray"
            ]
          },
          "metadata": {},
          "execution_count": 32
        }
      ]
    },
    {
      "cell_type": "code",
      "source": [
        "a=np.ones(1,dtype=int)\n",
        "print(a)\n",
        "print(a.size)\n",
        "print(a.shape)\n",
        "print(a.ndim)\n",
        "type(a)"
      ],
      "metadata": {
        "colab": {
          "base_uri": "https://localhost:8080/"
        },
        "id": "TKmcZh1DbiHO",
        "outputId": "e67d5a34-6488-47b0-d89c-5cf77d63bc5c"
      },
      "execution_count": null,
      "outputs": [
        {
          "output_type": "stream",
          "name": "stdout",
          "text": [
            "[1]\n",
            "1\n",
            "(1,)\n",
            "1\n"
          ]
        },
        {
          "output_type": "execute_result",
          "data": {
            "text/plain": [
              "numpy.ndarray"
            ]
          },
          "metadata": {},
          "execution_count": 33
        }
      ]
    },
    {
      "cell_type": "code",
      "source": [
        "a=np.ones([3,4])\n",
        "print(a)\n",
        "print(a.size)\n",
        "print(a.shape)\n",
        "print(a.ndim)\n",
        "type(a)"
      ],
      "metadata": {
        "colab": {
          "base_uri": "https://localhost:8080/"
        },
        "id": "mI2uBHLIbiW2",
        "outputId": "24024935-fb44-4c6b-b8eb-8ce77827998e"
      },
      "execution_count": null,
      "outputs": [
        {
          "output_type": "stream",
          "name": "stdout",
          "text": [
            "[[1. 1. 1. 1.]\n",
            " [1. 1. 1. 1.]\n",
            " [1. 1. 1. 1.]]\n",
            "12\n",
            "(3, 4)\n",
            "2\n"
          ]
        },
        {
          "output_type": "execute_result",
          "data": {
            "text/plain": [
              "numpy.ndarray"
            ]
          },
          "metadata": {},
          "execution_count": 34
        }
      ]
    },
    {
      "cell_type": "code",
      "source": [
        "a=np.ones([3,4,5],dtype=int)\n",
        "print(a)\n",
        "print(a.size)\n",
        "print(a.shape)\n",
        "print(a.ndim)\n",
        "type(a)\n"
      ],
      "metadata": {
        "colab": {
          "base_uri": "https://localhost:8080/"
        },
        "id": "ugh6BEnwbiln",
        "outputId": "38a2541d-9c76-47d7-9038-ec651b14d284"
      },
      "execution_count": null,
      "outputs": [
        {
          "output_type": "stream",
          "name": "stdout",
          "text": [
            "[[[1 1 1 1 1]\n",
            "  [1 1 1 1 1]\n",
            "  [1 1 1 1 1]\n",
            "  [1 1 1 1 1]]\n",
            "\n",
            " [[1 1 1 1 1]\n",
            "  [1 1 1 1 1]\n",
            "  [1 1 1 1 1]\n",
            "  [1 1 1 1 1]]\n",
            "\n",
            " [[1 1 1 1 1]\n",
            "  [1 1 1 1 1]\n",
            "  [1 1 1 1 1]\n",
            "  [1 1 1 1 1]]]\n",
            "60\n",
            "(3, 4, 5)\n",
            "3\n"
          ]
        },
        {
          "output_type": "execute_result",
          "data": {
            "text/plain": [
              "numpy.ndarray"
            ]
          },
          "metadata": {},
          "execution_count": 36
        }
      ]
    },
    {
      "cell_type": "code",
      "source": [
        "a=np.full(3,9,dtype=str)\n",
        "print(a)\n",
        "a=np.ones([3,4,5],dtype=int)\n",
        "print(a)\n",
        "print(a.size)\n",
        "print(a.shape)\n",
        "print(a.ndim)\n",
        "type(a)\n"
      ],
      "metadata": {
        "colab": {
          "base_uri": "https://localhost:8080/"
        },
        "id": "Oc7DoU9gbizO",
        "outputId": "9736d612-b135-45a1-a6bd-005779a6e29d"
      },
      "execution_count": null,
      "outputs": [
        {
          "output_type": "stream",
          "name": "stdout",
          "text": [
            "['9' '9' '9']\n",
            "[[[1 1 1 1 1]\n",
            "  [1 1 1 1 1]\n",
            "  [1 1 1 1 1]\n",
            "  [1 1 1 1 1]]\n",
            "\n",
            " [[1 1 1 1 1]\n",
            "  [1 1 1 1 1]\n",
            "  [1 1 1 1 1]\n",
            "  [1 1 1 1 1]]\n",
            "\n",
            " [[1 1 1 1 1]\n",
            "  [1 1 1 1 1]\n",
            "  [1 1 1 1 1]\n",
            "  [1 1 1 1 1]]]\n",
            "60\n",
            "(3, 4, 5)\n",
            "3\n"
          ]
        },
        {
          "output_type": "execute_result",
          "data": {
            "text/plain": [
              "numpy.ndarray"
            ]
          },
          "metadata": {},
          "execution_count": 41
        }
      ]
    },
    {
      "cell_type": "code",
      "source": [
        "a=np.full([2,3],9)\n",
        "print(a)\n",
        "print(a.size)\n",
        "print(a.shape)\n",
        "print(a.ndim)\n",
        "type(a)\n"
      ],
      "metadata": {
        "colab": {
          "base_uri": "https://localhost:8080/"
        },
        "id": "2Bal3SOkbjAu",
        "outputId": "a4d67f95-5653-44b5-bf17-038a5cba5fb5"
      },
      "execution_count": null,
      "outputs": [
        {
          "output_type": "stream",
          "name": "stdout",
          "text": [
            "[[9 9 9]\n",
            " [9 9 9]]\n",
            "6\n",
            "(2, 3)\n",
            "2\n"
          ]
        },
        {
          "output_type": "execute_result",
          "data": {
            "text/plain": [
              "numpy.ndarray"
            ]
          },
          "metadata": {},
          "execution_count": 43
        }
      ]
    },
    {
      "cell_type": "code",
      "source": [
        "a=np.full([4,2,3],10,dtype=str)\n",
        "print(a)\n",
        "print(a.size)\n",
        "print(a.shape)\n",
        "print(a.ndim)\n",
        "type(a)\n"
      ],
      "metadata": {
        "colab": {
          "base_uri": "https://localhost:8080/"
        },
        "id": "ajqZVg1zbjJV",
        "outputId": "54558fa4-d264-47aa-d61b-cb5713e324d2"
      },
      "execution_count": null,
      "outputs": [
        {
          "output_type": "stream",
          "name": "stdout",
          "text": [
            "[[['1' '1' '1']\n",
            "  ['1' '1' '1']]\n",
            "\n",
            " [['1' '1' '1']\n",
            "  ['1' '1' '1']]\n",
            "\n",
            " [['1' '1' '1']\n",
            "  ['1' '1' '1']]\n",
            "\n",
            " [['1' '1' '1']\n",
            "  ['1' '1' '1']]]\n",
            "24\n",
            "(4, 2, 3)\n",
            "3\n"
          ]
        },
        {
          "output_type": "execute_result",
          "data": {
            "text/plain": [
              "numpy.ndarray"
            ]
          },
          "metadata": {},
          "execution_count": 46
        }
      ]
    },
    {
      "cell_type": "markdown",
      "source": [
        "NUMPY ADDITION"
      ],
      "metadata": {
        "id": "lQwZ2faMe7Ry"
      }
    },
    {
      "cell_type": "code",
      "source": [
        "a=np.array([1,2,3])\n",
        "b=np.array([0,0,0])\n",
        "add=np.add(a,b)\n",
        "add"
      ],
      "metadata": {
        "colab": {
          "base_uri": "https://localhost:8080/"
        },
        "id": "vzn2N6PkbjRt",
        "outputId": "361e9b75-252f-4f93-ee65-d68d2581bc38"
      },
      "execution_count": null,
      "outputs": [
        {
          "output_type": "execute_result",
          "data": {
            "text/plain": [
              "array([1, 2, 3])"
            ]
          },
          "metadata": {},
          "execution_count": 48
        }
      ]
    },
    {
      "cell_type": "markdown",
      "source": [
        "subtraction\n"
      ],
      "metadata": {
        "id": "yrUN3nW8fQd0"
      }
    },
    {
      "cell_type": "code",
      "source": [
        "a=np.array([1,2,3])\n",
        "b=np.array([1,2,5])\n",
        "sub=np.subtract(a,b)\n",
        "sub"
      ],
      "metadata": {
        "colab": {
          "base_uri": "https://localhost:8080/"
        },
        "id": "bk03-B-nfU5W",
        "outputId": "84003bb7-52c5-45e2-b4f7-00b16da13fdc"
      },
      "execution_count": null,
      "outputs": [
        {
          "output_type": "execute_result",
          "data": {
            "text/plain": [
              "array([ 0,  0, -2])"
            ]
          },
          "metadata": {},
          "execution_count": 50
        }
      ]
    },
    {
      "cell_type": "code",
      "source": [
        "a=np.array([1,2,3])\n",
        "b=np.array([0,0,0])\n",
        "mul=np.multiply(a,b)\n",
        "mul"
      ],
      "metadata": {
        "colab": {
          "base_uri": "https://localhost:8080/"
        },
        "id": "m3skeJaefjCh",
        "outputId": "7b4433c8-2dfb-41f6-daf3-8045e3de604b"
      },
      "execution_count": null,
      "outputs": [
        {
          "output_type": "execute_result",
          "data": {
            "text/plain": [
              "array([0, 0, 0])"
            ]
          },
          "metadata": {},
          "execution_count": 52
        }
      ]
    },
    {
      "cell_type": "code",
      "source": [
        "a=np.array([1,2,3])\n",
        "b=np.array([0,0,0])\n",
        "div=np.divide(a,b)\n",
        "div\n"
      ],
      "metadata": {
        "colab": {
          "base_uri": "https://localhost:8080/"
        },
        "id": "97VYsepDfjWq",
        "outputId": "ed123159-f1c3-41eb-f620-a4b26916c933"
      },
      "execution_count": null,
      "outputs": [
        {
          "output_type": "stream",
          "name": "stderr",
          "text": [
            "<ipython-input-53-28d78eb5d211>:3: RuntimeWarning: divide by zero encountered in divide\n",
            "  div=np.divide(a,b)\n"
          ]
        },
        {
          "output_type": "execute_result",
          "data": {
            "text/plain": [
              "array([inf, inf, inf])"
            ]
          },
          "metadata": {},
          "execution_count": 53
        }
      ]
    },
    {
      "cell_type": "code",
      "source": [
        "a=np.array([10000,200000,300000])\n",
        "b=np.array([10,100,1000])\n",
        "mo=np.mod(a,b)\n",
        "mo"
      ],
      "metadata": {
        "colab": {
          "base_uri": "https://localhost:8080/"
        },
        "id": "Jqt_RsrYfjjh",
        "outputId": "8c1d438b-cfac-4bfd-d837-24091a1aa1e8"
      },
      "execution_count": null,
      "outputs": [
        {
          "output_type": "execute_result",
          "data": {
            "text/plain": [
              "array([0, 0, 0])"
            ]
          },
          "metadata": {},
          "execution_count": 57
        }
      ]
    },
    {
      "cell_type": "code",
      "source": [
        "a=np.array([1,2,3])\n",
        "b=np.array([0,0,0])\n",
        "p=np.power(a,b)\n",
        "p"
      ],
      "metadata": {
        "colab": {
          "base_uri": "https://localhost:8080/"
        },
        "id": "-kV09uMOfjzR",
        "outputId": "201077af-5ea3-4a9d-eb3b-87db9b731063"
      },
      "execution_count": null,
      "outputs": [
        {
          "output_type": "execute_result",
          "data": {
            "text/plain": [
              "array([1, 1, 1])"
            ]
          },
          "metadata": {},
          "execution_count": 58
        }
      ]
    },
    {
      "cell_type": "markdown",
      "source": [
        "DATA VISUALISATION"
      ],
      "metadata": {
        "id": "tQyas_3_ghle"
      }
    },
    {
      "cell_type": "code",
      "source": [],
      "metadata": {
        "id": "fObE82Lwgl0v"
      },
      "execution_count": null,
      "outputs": []
    },
    {
      "cell_type": "code",
      "source": [],
      "metadata": {
        "id": "aQenotVZfkZC"
      },
      "execution_count": null,
      "outputs": []
    }
  ]
}